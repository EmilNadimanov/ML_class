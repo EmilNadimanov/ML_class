{
 "cells": [
  {
   "cell_type": "code",
   "execution_count": 224,
   "metadata": {},
   "outputs": [],
   "source": [
    "class Tree:\n",
    "    '''Create a binary tree; keyword-only arguments `data`, `left`, `right`.\n",
    "\n",
    "  Examples:\n",
    "    l1 = Tree.leaf(\"leaf1\")\n",
    "    l2 = Tree.leaf(\"leaf2\")\n",
    "    tree = Tree(data=\"root\", left=l1, right=Tree(right=l2))\n",
    "  '''\n",
    "\n",
    "    def leaf(data):\n",
    "        '''Create a leaf tree\n",
    "    '''\n",
    "        return Tree(data=data)\n",
    "\n",
    "    # pretty-print trees\n",
    "    def __repr__(self):\n",
    "        if self.is_leaf():\n",
    "            return \"Leaf(%r)\" % self.data\n",
    "        else:\n",
    "            return \"Tree(%r) { left = %r, right = %r }\" % (self.data, self.left, self.right)\n",
    "\n",
    "    # all arguments after `*` are *keyword-only*!\n",
    "    def __init__(self, *, data=None, left=None, right=None):\n",
    "        self.data = data\n",
    "        self.left = left\n",
    "        self.right = right\n",
    "\n",
    "    def is_leaf(self):\n",
    "        '''Check if this tree is a leaf tree\n",
    "    '''\n",
    "        return self.left == None and self.right == None\n",
    "\n",
    "    def children(self):\n",
    "        '''List of child subtrees\n",
    "    '''\n",
    "        return [x for x in [self.left, self.right] if x]\n",
    "\n",
    "    def depth(self):\n",
    "        '''Compute the depth of a tree\n",
    "    A leaf is depth-1, and a child is one deeper than the parent.\n",
    "    '''\n",
    "        return max([x.depth() for x in self.children()], default=0) + 1"
   ]
  },
  {
   "cell_type": "code",
   "execution_count": 225,
   "metadata": {},
   "outputs": [
    {
     "name": "stdout",
     "output_type": "stream",
     "text": [
      "Tree('isSystems?') { left = Leaf('like'), right = Tree('takenOtherSys') { left = Tree('morning?') { left = Leaf('like'), right = Leaf('nah') }, right = Tree('likedOtherSys?') { left = Leaf('nah'), right = Leaf('like') } } }\n"
     ]
    }
   ],
   "source": [
    "    root = Tree(data=\"isSystems?\")\n",
    "    takenOtherSys = Tree(data=\"takenOtherSys\")\n",
    "    morning = Tree(data=\"morning?\")\n",
    "    likedOtherSys = Tree(data=\"likedOtherSys?\")\n",
    "    l1 = Tree.leaf(data=\"like\")\n",
    "    l2 = Tree.leaf(data=\"like\")\n",
    "    l3 = Tree.leaf(data=\"nah\")\n",
    "    l4 = Tree.leaf(data=\"nah\")\n",
    "    l5 = Tree.leaf(data=\"like\")\n",
    "    root.left = l1\n",
    "    root.right = takenOtherSys\n",
    "    takenOtherSys.left = morning\n",
    "    takenOtherSys.right = likedOtherSys\n",
    "    morning.left = l2\n",
    "    morning.right = l3\n",
    "    likedOtherSys.left = l4\n",
    "    likedOtherSys.right = l5\n",
    "    print(root)"
   ]
  },
  {
   "cell_type": "markdown",
   "metadata": {},
   "source": [
    "## TASK 2"
   ]
  },
  {
   "cell_type": "code",
   "execution_count": 226,
   "metadata": {},
   "outputs": [],
   "source": [
    "import pandas as pd\n",
    "import numpy as np\n",
    "\n",
    "csv_thing = \"\"\"rating,easy,ai,systems,theory,morning\n",
    " 2,True,True,False,True,False\n",
    " 2,True,True,False,True,False\n",
    " 2,False,True,False,False,False\n",
    " 2,False,False,False,True,False\n",
    " 2,False,True,True,False,True\n",
    " 1,True,True,False,False,False\n",
    " 1,True,True,False,True,False\n",
    " 1,False,True,False,True,False\n",
    " 0,False,False,False,False,True\n",
    " 0,True,False,False,True,True\n",
    " 0,False,True,False,True,False\n",
    " 0,True,True,True,True,True\n",
    "-1,True,True,True,False,True\n",
    "-1,False,False,True,True,False\n",
    "-1,False,False,True,False,True\n",
    "-1,True,False,True,False,True\n",
    "-2,False,False,True,True,False\n",
    "-2,False,True,True,False,True\n",
    "-2,True,False,True,False,False\n",
    "-2,True,False,True,False,True\n",
    "\"\"\"\n",
    "file = open(\"csv_thing.csv\", 'w')\n",
    "file.write(csv_thing)\n",
    "file.close()"
   ]
  },
  {
   "cell_type": "code",
   "execution_count": 227,
   "metadata": {},
   "outputs": [
    {
     "name": "stdout",
     "output_type": "stream",
     "text": [
      "    rating   easy     ai  systems  theory  morning     ok\n",
      "0        2   True   True    False    True    False   True\n",
      "1        2   True   True    False    True    False   True\n",
      "2        2  False   True    False   False    False   True\n",
      "3        2  False  False    False    True    False   True\n",
      "4        2  False   True     True   False     True   True\n",
      "5        1   True   True    False   False    False   True\n",
      "6        1   True   True    False    True    False   True\n",
      "7        1  False   True    False    True    False   True\n",
      "8        0  False  False    False   False     True   True\n",
      "9        0   True  False    False    True     True   True\n",
      "10       0  False   True    False    True    False   True\n",
      "11       0   True   True     True    True     True   True\n",
      "12      -1   True   True     True   False     True  False\n",
      "13      -1  False  False     True    True    False  False\n",
      "14      -1  False  False     True   False     True  False\n",
      "15      -1   True  False     True   False     True  False\n",
      "16      -2  False  False     True    True    False  False\n",
      "17      -2  False   True     True   False     True  False\n",
      "18      -2   True  False     True   False    False  False\n",
      "19      -2   True  False     True   False     True  False\n"
     ]
    }
   ],
   "source": [
    "res = pd.read_csv(\"csv_thing.csv\")\n",
    "res['ok'] = np.where(res['rating'] >= 0, True, False)\n",
    "print(res)"
   ]
  },
  {
   "cell_type": "code",
   "execution_count": 228,
   "metadata": {},
   "outputs": [],
   "source": [
    "res.to_csv(\"task2_result\", index=False)"
   ]
  },
  {
   "cell_type": "markdown",
   "metadata": {},
   "source": [
    "## TASK 3"
   ]
  },
  {
   "cell_type": "markdown",
   "metadata": {},
   "source": [
    " Write a function which takes a feature and computes the performance\n",
    "   of the corresponding single-feature classifier:"
   ]
  },
  {
   "cell_type": "code",
   "execution_count": 229,
   "metadata": {},
   "outputs": [],
   "source": [
    "import pandas as pd"
   ]
  },
  {
   "cell_type": "code",
   "execution_count": 230,
   "metadata": {},
   "outputs": [],
   "source": [
    "data = pd.read_csv('result')"
   ]
  },
  {
   "cell_type": "code",
   "execution_count": 231,
   "metadata": {},
   "outputs": [
    {
     "data": {
      "text/html": [
       "<div>\n",
       "<style scoped>\n",
       "    .dataframe tbody tr th:only-of-type {\n",
       "        vertical-align: middle;\n",
       "    }\n",
       "\n",
       "    .dataframe tbody tr th {\n",
       "        vertical-align: top;\n",
       "    }\n",
       "\n",
       "    .dataframe thead th {\n",
       "        text-align: right;\n",
       "    }\n",
       "</style>\n",
       "<table border=\"1\" class=\"dataframe\">\n",
       "  <thead>\n",
       "    <tr style=\"text-align: right;\">\n",
       "      <th></th>\n",
       "      <th>rating</th>\n",
       "      <th>easy</th>\n",
       "      <th>ai</th>\n",
       "      <th>systems</th>\n",
       "      <th>theory</th>\n",
       "      <th>morning</th>\n",
       "      <th>ok</th>\n",
       "    </tr>\n",
       "  </thead>\n",
       "  <tbody>\n",
       "    <tr>\n",
       "      <th>0</th>\n",
       "      <td>2</td>\n",
       "      <td>True</td>\n",
       "      <td>True</td>\n",
       "      <td>False</td>\n",
       "      <td>True</td>\n",
       "      <td>False</td>\n",
       "      <td>True</td>\n",
       "    </tr>\n",
       "    <tr>\n",
       "      <th>1</th>\n",
       "      <td>2</td>\n",
       "      <td>True</td>\n",
       "      <td>True</td>\n",
       "      <td>False</td>\n",
       "      <td>True</td>\n",
       "      <td>False</td>\n",
       "      <td>True</td>\n",
       "    </tr>\n",
       "    <tr>\n",
       "      <th>2</th>\n",
       "      <td>2</td>\n",
       "      <td>False</td>\n",
       "      <td>True</td>\n",
       "      <td>False</td>\n",
       "      <td>False</td>\n",
       "      <td>False</td>\n",
       "      <td>True</td>\n",
       "    </tr>\n",
       "    <tr>\n",
       "      <th>3</th>\n",
       "      <td>2</td>\n",
       "      <td>False</td>\n",
       "      <td>False</td>\n",
       "      <td>False</td>\n",
       "      <td>True</td>\n",
       "      <td>False</td>\n",
       "      <td>True</td>\n",
       "    </tr>\n",
       "    <tr>\n",
       "      <th>4</th>\n",
       "      <td>2</td>\n",
       "      <td>False</td>\n",
       "      <td>True</td>\n",
       "      <td>True</td>\n",
       "      <td>False</td>\n",
       "      <td>True</td>\n",
       "      <td>True</td>\n",
       "    </tr>\n",
       "    <tr>\n",
       "      <th>5</th>\n",
       "      <td>1</td>\n",
       "      <td>True</td>\n",
       "      <td>True</td>\n",
       "      <td>False</td>\n",
       "      <td>False</td>\n",
       "      <td>False</td>\n",
       "      <td>True</td>\n",
       "    </tr>\n",
       "    <tr>\n",
       "      <th>6</th>\n",
       "      <td>1</td>\n",
       "      <td>True</td>\n",
       "      <td>True</td>\n",
       "      <td>False</td>\n",
       "      <td>True</td>\n",
       "      <td>False</td>\n",
       "      <td>True</td>\n",
       "    </tr>\n",
       "    <tr>\n",
       "      <th>7</th>\n",
       "      <td>1</td>\n",
       "      <td>False</td>\n",
       "      <td>True</td>\n",
       "      <td>False</td>\n",
       "      <td>True</td>\n",
       "      <td>False</td>\n",
       "      <td>True</td>\n",
       "    </tr>\n",
       "    <tr>\n",
       "      <th>8</th>\n",
       "      <td>0</td>\n",
       "      <td>False</td>\n",
       "      <td>False</td>\n",
       "      <td>False</td>\n",
       "      <td>False</td>\n",
       "      <td>True</td>\n",
       "      <td>True</td>\n",
       "    </tr>\n",
       "    <tr>\n",
       "      <th>9</th>\n",
       "      <td>0</td>\n",
       "      <td>True</td>\n",
       "      <td>False</td>\n",
       "      <td>False</td>\n",
       "      <td>True</td>\n",
       "      <td>True</td>\n",
       "      <td>True</td>\n",
       "    </tr>\n",
       "    <tr>\n",
       "      <th>10</th>\n",
       "      <td>0</td>\n",
       "      <td>False</td>\n",
       "      <td>True</td>\n",
       "      <td>False</td>\n",
       "      <td>True</td>\n",
       "      <td>False</td>\n",
       "      <td>True</td>\n",
       "    </tr>\n",
       "    <tr>\n",
       "      <th>11</th>\n",
       "      <td>0</td>\n",
       "      <td>True</td>\n",
       "      <td>True</td>\n",
       "      <td>True</td>\n",
       "      <td>True</td>\n",
       "      <td>True</td>\n",
       "      <td>True</td>\n",
       "    </tr>\n",
       "    <tr>\n",
       "      <th>12</th>\n",
       "      <td>-1</td>\n",
       "      <td>True</td>\n",
       "      <td>True</td>\n",
       "      <td>True</td>\n",
       "      <td>False</td>\n",
       "      <td>True</td>\n",
       "      <td>False</td>\n",
       "    </tr>\n",
       "    <tr>\n",
       "      <th>13</th>\n",
       "      <td>-1</td>\n",
       "      <td>False</td>\n",
       "      <td>False</td>\n",
       "      <td>True</td>\n",
       "      <td>True</td>\n",
       "      <td>False</td>\n",
       "      <td>False</td>\n",
       "    </tr>\n",
       "    <tr>\n",
       "      <th>14</th>\n",
       "      <td>-1</td>\n",
       "      <td>False</td>\n",
       "      <td>False</td>\n",
       "      <td>True</td>\n",
       "      <td>False</td>\n",
       "      <td>True</td>\n",
       "      <td>False</td>\n",
       "    </tr>\n",
       "    <tr>\n",
       "      <th>15</th>\n",
       "      <td>-1</td>\n",
       "      <td>True</td>\n",
       "      <td>False</td>\n",
       "      <td>True</td>\n",
       "      <td>False</td>\n",
       "      <td>True</td>\n",
       "      <td>False</td>\n",
       "    </tr>\n",
       "    <tr>\n",
       "      <th>16</th>\n",
       "      <td>-2</td>\n",
       "      <td>False</td>\n",
       "      <td>False</td>\n",
       "      <td>True</td>\n",
       "      <td>True</td>\n",
       "      <td>False</td>\n",
       "      <td>False</td>\n",
       "    </tr>\n",
       "    <tr>\n",
       "      <th>17</th>\n",
       "      <td>-2</td>\n",
       "      <td>False</td>\n",
       "      <td>True</td>\n",
       "      <td>True</td>\n",
       "      <td>False</td>\n",
       "      <td>True</td>\n",
       "      <td>False</td>\n",
       "    </tr>\n",
       "    <tr>\n",
       "      <th>18</th>\n",
       "      <td>-2</td>\n",
       "      <td>True</td>\n",
       "      <td>False</td>\n",
       "      <td>True</td>\n",
       "      <td>False</td>\n",
       "      <td>False</td>\n",
       "      <td>False</td>\n",
       "    </tr>\n",
       "    <tr>\n",
       "      <th>19</th>\n",
       "      <td>-2</td>\n",
       "      <td>True</td>\n",
       "      <td>False</td>\n",
       "      <td>True</td>\n",
       "      <td>False</td>\n",
       "      <td>True</td>\n",
       "      <td>False</td>\n",
       "    </tr>\n",
       "  </tbody>\n",
       "</table>\n",
       "</div>"
      ],
      "text/plain": [
       "    rating   easy     ai  systems  theory  morning     ok\n",
       "0        2   True   True    False    True    False   True\n",
       "1        2   True   True    False    True    False   True\n",
       "2        2  False   True    False   False    False   True\n",
       "3        2  False  False    False    True    False   True\n",
       "4        2  False   True     True   False     True   True\n",
       "5        1   True   True    False   False    False   True\n",
       "6        1   True   True    False    True    False   True\n",
       "7        1  False   True    False    True    False   True\n",
       "8        0  False  False    False   False     True   True\n",
       "9        0   True  False    False    True     True   True\n",
       "10       0  False   True    False    True    False   True\n",
       "11       0   True   True     True    True     True   True\n",
       "12      -1   True   True     True   False     True  False\n",
       "13      -1  False  False     True    True    False  False\n",
       "14      -1  False  False     True   False     True  False\n",
       "15      -1   True  False     True   False     True  False\n",
       "16      -2  False  False     True    True    False  False\n",
       "17      -2  False   True     True   False     True  False\n",
       "18      -2   True  False     True   False    False  False\n",
       "19      -2   True  False     True   False     True  False"
      ]
     },
     "execution_count": 231,
     "metadata": {},
     "output_type": "execute_result"
    }
   ],
   "source": [
    "data"
   ]
  },
  {
   "cell_type": "code",
   "execution_count": 232,
   "metadata": {},
   "outputs": [],
   "source": [
    "def single_feature_score(data, goal, feature):\n",
    "    truefalse = (data[goal]==data[feature])\n",
    "    matches = truefalse.sum()\n",
    "    total = truefalse.shape[0]\n",
    "    return matches/total"
   ]
  },
  {
   "cell_type": "code",
   "execution_count": 233,
   "metadata": {},
   "outputs": [],
   "source": [
    "systems = single_feature_score(data, 'ok', 'systems')\n",
    "ai = single_feature_score(data, 'ok', 'ai')"
   ]
  },
  {
   "cell_type": "code",
   "execution_count": 234,
   "metadata": {},
   "outputs": [
    {
     "name": "stdout",
     "output_type": "stream",
     "text": [
      "0.1\n",
      "0.75\n"
     ]
    }
   ],
   "source": [
    "print(systems)\n",
    "print(ai)"
   ]
  },
  {
   "cell_type": "markdown",
   "metadata": {},
   "source": [
    "## Task 4"
   ]
  },
  {
   "cell_type": "code",
   "execution_count": 311,
   "metadata": {},
   "outputs": [],
   "source": [
    "class MyDecisionTree(Tree):\n",
    "    \n",
    "    def leaf(data):\n",
    "        '''Create a leaf tree'''\n",
    "        return MyDecisionTree(data=data)\n",
    "\n",
    "    \n",
    "    def single_feature_score(data, goal, feature):\n",
    "        truefalse = (data[goal]==data[feature])\n",
    "        matches = truefalse.sum()\n",
    "        total = truefalse.shape[0]\n",
    "        return matches/total\n",
    "    \n",
    "    #shorter alias\n",
    "    def sfs(data, goal, feature):\n",
    "        return single_feature_score(data, goal, feature)\n",
    "    \n",
    "    def decision_tree_train(data, features):\n",
    "        score = dict()\n",
    "        guess = data['ok'].mode()[0]\n",
    "        if len(data['ok'].unique()) <= 1:\n",
    "            return MyDecisionTree.leaf(guess)\n",
    "        elif len(features)==1:\n",
    "            return MyDecisionTree.leaf(guess)\n",
    "        else:\n",
    "            for f in features:\n",
    "                NO = data.loc[data[f] == False]\n",
    "                YES = data.loc[data[f] == True]\n",
    "                score[f] = MyDecisionTree.sfs(NO, f, 'ok') + MyDecisionTree.sfs(YES, f, 'ok')\n",
    "                \n",
    "        top_f = max(score, key=score.get) # gets the key with the highest value in dict\n",
    "        NO =  data.loc[data[top_f] == False]\n",
    "        YES = data.loc[data[top_f] == True]\n",
    "        left =  MyDecisionTree.decision_tree_train(NO,  set(features) ^ {top_f})\n",
    "        right = MyDecisionTree.decision_tree_train(YES, set(features) ^ {top_f})\n",
    "        return MyDecisionTree(data=top_f, left=left, right=right)\n",
    "\n",
    "    # I assume that a test case is a row of a pandas dataframe\n",
    "    def decision_tree_test(self, test_point):\n",
    "        if self.is_leaf():\n",
    "            return self.data\n",
    "        else:\n",
    "            if test_point[self.data] == False:\n",
    "                return self.left.decision_tree_test(test_point)\n",
    "            else:\n",
    "                return self.right.decision_tree_test(test_point)"
   ]
  },
  {
   "cell_type": "code",
   "execution_count": 312,
   "metadata": {},
   "outputs": [
    {
     "name": "stdout",
     "output_type": "stream",
     "text": [
      "Tree('ai') { left = Tree('theory') { left = Tree('morning') { left = Leaf(False), right = Tree('easy') { left = Leaf(False), right = Leaf(False) } }, right = Tree('easy') { left = Tree('systems') { left = Leaf(True), right = Leaf(False) }, right = Leaf(True) } }, right = Tree('theory') { left = Tree('easy') { left = Tree('systems') { left = Leaf(True), right = Leaf(False) }, right = Tree('systems') { left = Leaf(True), right = Leaf(False) } }, right = Leaf(True) } }\n"
     ]
    },
    {
     "name": "stderr",
     "output_type": "stream",
     "text": [
      "<ipython-input-232-b345e3b7bbce>:5: RuntimeWarning: invalid value encountered in long_scalars\n",
      "  return matches/total\n"
     ]
    }
   ],
   "source": [
    "data_features_only = data.drop(columns=[\"rating\"])\n",
    "my_tree = MyDecisionTree.decision_tree_train(data_features_only, set(data_features_only.columns)^{\"ok\"})\n",
    "print(my_tree)"
   ]
  },
  {
   "cell_type": "code",
   "execution_count": 313,
   "metadata": {},
   "outputs": [
    {
     "data": {
      "text/plain": [
       "easy        True\n",
       "ai          True\n",
       "systems    False\n",
       "theory      True\n",
       "morning    False\n",
       "ok          True\n",
       "Name: 0, dtype: bool"
      ]
     },
     "execution_count": 313,
     "metadata": {},
     "output_type": "execute_result"
    }
   ],
   "source": [
    "data_features_only.iloc[0]"
   ]
  },
  {
   "cell_type": "code",
   "execution_count": 320,
   "metadata": {},
   "outputs": [
    {
     "name": "stdout",
     "output_type": "stream",
     "text": [
      "0.9 success rate\n"
     ]
    }
   ],
   "source": [
    "successes = 0\n",
    "for idx in range(data_features_only.shape[0]):\n",
    "    result = my_tree.decision_tree_test(data_features_only.iloc[idx])\n",
    "    label = data_features_only.iloc[idx]['ok']\n",
    "    # print(f\"\"\"FOR TEST CASE {idx}\\n result is {result} \\n label is {label}\\n\"\"\")\n",
    "    if result == label:\n",
    "        successes += 1\n",
    "print(successes / 20, \"success rate\")"
   ]
  },
  {
   "cell_type": "code",
   "execution_count": 321,
   "metadata": {},
   "outputs": [
    {
     "name": "stdout",
     "output_type": "stream",
     "text": [
      "easy 0.5\n",
      "ai 0.75\n",
      "systems 0.1\n",
      "theory 0.7\n",
      "morning 0.35\n",
      "ok 1.0\n"
     ]
    }
   ],
   "source": [
    "for f in data_features_only.columns:\n",
    "    print(f, MyDecisionTree.sfs(data, \"ok\", f))"
   ]
  },
  {
   "cell_type": "markdown",
   "metadata": {},
   "source": [
    "### TASK 5"
   ]
  },
  {
   "cell_type": "code",
   "execution_count": null,
   "metadata": {},
   "outputs": [],
   "source": []
  }
 ],
 "metadata": {
  "kernelspec": {
   "display_name": "Python 3",
   "language": "python",
   "name": "python3"
  },
  "language_info": {
   "codemirror_mode": {
    "name": "ipython",
    "version": 3
   },
   "file_extension": ".py",
   "mimetype": "text/x-python",
   "name": "python",
   "nbconvert_exporter": "python",
   "pygments_lexer": "ipython3",
   "version": "3.9.1"
  }
 },
 "nbformat": 4,
 "nbformat_minor": 4
}
